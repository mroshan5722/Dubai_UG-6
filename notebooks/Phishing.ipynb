{
 "cells": [
  {
   "cell_type": "markdown",
   "id": "1c6fd4d1-16fc-4229-880a-9074dc75462f",
   "metadata": {},
   "source": [
    "# Phishing Dataset - Download, Preprocessing, and Model Pipeline\n",
    "\n",
    "In this notebook, we will be setting up the **Phishing URL Detection** dataset for machine learning models. This notebook is designed to help you understand the entire workflow, from dataset acquisition, preparing the data for model training, creating models and training the models with the dataset.\n",
    "\n",
    "Let’s dive in!"
   ]
  },
  {
   "cell_type": "markdown",
   "id": "72385551-8688-44ba-b4e3-1f89056e7b3f",
   "metadata": {},
   "source": [
    "## Step 1: Downloading the Phishing Dataset\n",
    "\n",
    "We will start by downloading the **Phishing URL Detection** dataset using the `Kaggle API`. The dataset will be downloaded into the `raw_data` directory.\n",
    "\n",
    "Note: Make sure you already have the Kaggle API set up, as outlined in the project's README file.\n"
   ]
  },
  {
   "cell_type": "code",
   "execution_count": null,
   "id": "a17e64bf-bd35-43ad-877a-547b91dda846",
   "metadata": {},
   "outputs": [],
   "source": [
    "from scripts.download_data import download_dataset\n",
    "\n",
    "phishing_dataset = 'sergioagudelo/phishing-url-detection'\n",
    "RAW_DATA_DIR = './data/raw_data/phishing_url'\n",
    "download_dataset(phishing_dataset, RAW_DATA_DIR)\n",
    "\n",
    "print(f\"Phishing dataset has been downloaded to {RAW_DATA_DIR}.\")\n"
   ]
  },
  {
   "cell_type": "markdown",
   "id": "2e7a7316-43b9-4ed1-bc95-8fd303eb1ec8",
   "metadata": {},
   "source": [
    "## Step 2: Inspect the Dataset\n",
    "\n",
    "Now that we have downloaded the dataset, let’s load it into a Pandas DataFrame and inspect the first few rows to understand the data structure.\n"
   ]
  },
  {
   "cell_type": "code",
   "execution_count": 3,
   "id": "cec07a28-3b93-4668-8c2d-88ebef84a8be",
   "metadata": {},
   "outputs": [
    {
     "ename": "NameError",
     "evalue": "name 'RAW_DATA_DIR' is not defined",
     "output_type": "error",
     "traceback": [
      "\u001b[0;31m---------------------------------------------------------------------------\u001b[0m",
      "\u001b[0;31mNameError\u001b[0m                                 Traceback (most recent call last)",
      "Cell \u001b[0;32mIn[3], line 4\u001b[0m\n\u001b[1;32m      1\u001b[0m \u001b[38;5;28;01mimport\u001b[39;00m \u001b[38;5;21;01mos\u001b[39;00m\n\u001b[1;32m      2\u001b[0m \u001b[38;5;28;01mimport\u001b[39;00m \u001b[38;5;21;01mpandas\u001b[39;00m \u001b[38;5;28;01mas\u001b[39;00m \u001b[38;5;21;01mpd\u001b[39;00m\n\u001b[0;32m----> 4\u001b[0m phishing_data_path \u001b[38;5;241m=\u001b[39m os\u001b[38;5;241m.\u001b[39mpath\u001b[38;5;241m.\u001b[39mjoin(\u001b[43mRAW_DATA_DIR\u001b[49m, \u001b[38;5;124m'\u001b[39m\u001b[38;5;124mphishing_site_urls.csv\u001b[39m\u001b[38;5;124m'\u001b[39m)\n\u001b[1;32m      5\u001b[0m df \u001b[38;5;241m=\u001b[39m pd\u001b[38;5;241m.\u001b[39mread_csv(phishing_data_path)\n\u001b[1;32m      7\u001b[0m df\u001b[38;5;241m.\u001b[39mhead()\n",
      "\u001b[0;31mNameError\u001b[0m: name 'RAW_DATA_DIR' is not defined"
     ]
    }
   ],
   "source": [
    "import pandas as pd\n",
    "\n",
    "phishing_data_path = os.path.join(RAW_DATA_DIR, 'phishing_site_urls.csv')\n",
    "df = pd.read_csv(phishing_data_path)\n",
    "\n",
    "df.head()"
   ]
  }
 ],
 "metadata": {
  "kernelspec": {
   "display_name": "Python 3 (ipykernel)",
   "language": "python",
   "name": "python3"
  },
  "language_info": {
   "codemirror_mode": {
    "name": "ipython",
    "version": 3
   },
   "file_extension": ".py",
   "mimetype": "text/x-python",
   "name": "python",
   "nbconvert_exporter": "python",
   "pygments_lexer": "ipython3",
   "version": "3.10.12"
  }
 },
 "nbformat": 4,
 "nbformat_minor": 5
}
