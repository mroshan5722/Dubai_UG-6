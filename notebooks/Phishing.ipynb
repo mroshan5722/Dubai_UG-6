{
 "cells": [
  {
   "cell_type": "markdown",
   "id": "1c6fd4d1-16fc-4229-880a-9074dc75462f",
   "metadata": {},
   "source": [
    "# Phishing Dataset - Download, Preprocessing, and Model Pipeline\n",
    "\n",
    "In this notebook, we will be setting up the **Phishing URL Detection** dataset for machine learning models. This notebook is designed to help you understand the entire workflow, from dataset acquisition, preparing the data for model training, creating models and training the models with the dataset.\n",
    "\n",
    "Let’s dive in!"
   ]
  },
  {
   "cell_type": "markdown",
   "id": "72385551-8688-44ba-b4e3-1f89056e7b3f",
   "metadata": {},
   "source": [
    "## Downloading the Phishing Dataset\n",
    "\n",
    "We will start by downloading the **Phishing URL Detection** dataset using the `Kaggle API`. The dataset will be downloaded into the `raw_data` directory.\n",
    "\n",
    "Note: Make sure you already have the Kaggle API set up, as outlined in the project's README file.\n"
   ]
  },
  {
   "cell_type": "code",
   "execution_count": 3,
   "id": "ec2462fc-ffe7-4a7b-afcd-a9ca5aa7b82b",
   "metadata": {},
   "outputs": [
    {
     "name": "stdout",
     "output_type": "stream",
     "text": [
      "Current working directory: /home/rishupishu/Documents/HWUD/YEAR 4/SEM 1/F20DL/CW/Dubai_UG-6/notebooks\n"
     ]
    }
   ],
   "source": [
    "import sys\n",
    "import os\n",
    "\n",
    "BASE_DIR = os.path.abspath('..')\n",
    "RAW_DATA_DIR = os.path.join(BASE_DIR, 'data/raw_data/phishing')\n",
    "sys.path.append(os.path.join(BASE_DIR, 'scripts'))\n",
    "\n",
    "from download_data import download_dataset\n",
    "phishing_dataset = 'sergioagudelo/phishing-url-detection'\n",
    "download_dataset(phishing_dataset, RAW_DATA_DIR)"
   ]
  },
  {
   "cell_type": "code",
   "execution_count": null,
   "id": "a17e64bf-bd35-43ad-877a-547b91dda846",
   "metadata": {},
   "outputs": [],
   "source": []
  },
  {
   "cell_type": "markdown",
   "id": "2e7a7316-43b9-4ed1-bc95-8fd303eb1ec8",
   "metadata": {},
   "source": [
    "## Inspect the Dataset\n",
    "\n",
    "Now that we have downloaded the dataset, let’s load it into a Pandas DataFrame and inspect the first few rows to understand the data structure. This may take a few seconds...\n"
   ]
  },
  {
   "cell_type": "code",
   "execution_count": null,
   "id": "cec07a28-3b93-4668-8c2d-88ebef84a8be",
   "metadata": {},
   "outputs": [],
   "source": [
    "import pandas as pd\n",
    "\n",
    "dataset = os.path.join(RAW_DATA_DIR, 'out.csv')\n",
    "df = pd.read_csv(dataset)\n",
    "\n",
    "# df.head()"
   ]
  },
  {
   "cell_type": "markdown",
   "id": "f8fe2243-4c1c-40ab-a60f-417e10f4d63d",
   "metadata": {},
   "source": [
    "## Preprocessing the Data\n",
    "\n",
    "Next, we will preprocess the dataset to prepare it for machine learning models. The steps will include:\n",
    "\n",
    "1. Load the data.\n",
    "2. Handling missing values.\n",
    "3. Encoding categorical features\n",
    "4. Outlier Detection and Removal\n",
    "5. Normalization/Standarization\n",
    "6. Flattening the Data\n",
    "7. Principle Component Analysis\n",
    "8. Splitting the data into training and testing sets.\n",
    "9. Saving the data into flattened and unflattened sets.\n"
   ]
  },
  {
   "cell_type": "code",
   "execution_count": 5,
   "id": "32769eda-b7ff-4f57-a39a-4f89a3abad79",
   "metadata": {
    "scrolled": true
   },
   "outputs": [
    {
     "name": "stdout",
     "output_type": "stream",
     "text": [
      "Step 1: Loading data...\n",
      "Data loaded successfully!\n",
      "Step 2: Handling missing data...\n"
     ]
    },
    {
     "name": "stderr",
     "output_type": "stream",
     "text": [
      "/home/rishupishu/Documents/HWUD/YEAR 4/SEM 1/F20DL/CW/Dubai_UG-6/scripts/preprocess_phishing_data.py:30: FutureWarning: A value is trying to be set on a copy of a DataFrame or Series through chained assignment using an inplace method.\n",
      "The behavior will change in pandas 3.0. This inplace method will never work because the intermediate object on which we are setting values always behaves as a copy.\n",
      "\n",
      "For example, when doing 'df[col].method(value, inplace=True)', try using 'df.method({col: value}, inplace=True)' or df[col] = df[col].method(value) instead, to perform the operation inplace on the original object.\n",
      "\n",
      "\n",
      "  df[column].fillna(df[column].mode()[0], inplace=True)  # Impute mode for categorical\n",
      "/home/rishupishu/Documents/HWUD/YEAR 4/SEM 1/F20DL/CW/Dubai_UG-6/scripts/preprocess_phishing_data.py:32: FutureWarning: A value is trying to be set on a copy of a DataFrame or Series through chained assignment using an inplace method.\n",
      "The behavior will change in pandas 3.0. This inplace method will never work because the intermediate object on which we are setting values always behaves as a copy.\n",
      "\n",
      "For example, when doing 'df[col].method(value, inplace=True)', try using 'df.method({col: value}, inplace=True)' or df[col] = df[col].method(value) instead, to perform the operation inplace on the original object.\n",
      "\n",
      "\n",
      "  df[column].fillna(df[column].median(), inplace=True)  # Impute median for numerical\n",
      "/home/rishupishu/Documents/HWUD/YEAR 4/SEM 1/F20DL/CW/Dubai_UG-6/scripts/preprocess_phishing_data.py:32: FutureWarning: A value is trying to be set on a copy of a DataFrame or Series through chained assignment using an inplace method.\n",
      "The behavior will change in pandas 3.0. This inplace method will never work because the intermediate object on which we are setting values always behaves as a copy.\n",
      "\n",
      "For example, when doing 'df[col].method(value, inplace=True)', try using 'df.method({col: value}, inplace=True)' or df[col] = df[col].method(value) instead, to perform the operation inplace on the original object.\n",
      "\n",
      "\n",
      "  df[column].fillna(df[column].median(), inplace=True)  # Impute median for numerical\n",
      "/home/rishupishu/Documents/HWUD/YEAR 4/SEM 1/F20DL/CW/Dubai_UG-6/scripts/preprocess_phishing_data.py:32: FutureWarning: A value is trying to be set on a copy of a DataFrame or Series through chained assignment using an inplace method.\n",
      "The behavior will change in pandas 3.0. This inplace method will never work because the intermediate object on which we are setting values always behaves as a copy.\n",
      "\n",
      "For example, when doing 'df[col].method(value, inplace=True)', try using 'df.method({col: value}, inplace=True)' or df[col] = df[col].method(value) instead, to perform the operation inplace on the original object.\n",
      "\n",
      "\n",
      "  df[column].fillna(df[column].median(), inplace=True)  # Impute median for numerical\n",
      "/home/rishupishu/Documents/HWUD/YEAR 4/SEM 1/F20DL/CW/Dubai_UG-6/scripts/preprocess_phishing_data.py:32: FutureWarning: A value is trying to be set on a copy of a DataFrame or Series through chained assignment using an inplace method.\n",
      "The behavior will change in pandas 3.0. This inplace method will never work because the intermediate object on which we are setting values always behaves as a copy.\n",
      "\n",
      "For example, when doing 'df[col].method(value, inplace=True)', try using 'df.method({col: value}, inplace=True)' or df[col] = df[col].method(value) instead, to perform the operation inplace on the original object.\n",
      "\n",
      "\n",
      "  df[column].fillna(df[column].median(), inplace=True)  # Impute median for numerical\n",
      "/home/rishupishu/Documents/HWUD/YEAR 4/SEM 1/F20DL/CW/Dubai_UG-6/scripts/preprocess_phishing_data.py:32: FutureWarning: A value is trying to be set on a copy of a DataFrame or Series through chained assignment using an inplace method.\n",
      "The behavior will change in pandas 3.0. This inplace method will never work because the intermediate object on which we are setting values always behaves as a copy.\n",
      "\n",
      "For example, when doing 'df[col].method(value, inplace=True)', try using 'df.method({col: value}, inplace=True)' or df[col] = df[col].method(value) instead, to perform the operation inplace on the original object.\n",
      "\n",
      "\n",
      "  df[column].fillna(df[column].median(), inplace=True)  # Impute median for numerical\n",
      "/home/rishupishu/Documents/HWUD/YEAR 4/SEM 1/F20DL/CW/Dubai_UG-6/scripts/preprocess_phishing_data.py:32: FutureWarning: A value is trying to be set on a copy of a DataFrame or Series through chained assignment using an inplace method.\n",
      "The behavior will change in pandas 3.0. This inplace method will never work because the intermediate object on which we are setting values always behaves as a copy.\n",
      "\n",
      "For example, when doing 'df[col].method(value, inplace=True)', try using 'df.method({col: value}, inplace=True)' or df[col] = df[col].method(value) instead, to perform the operation inplace on the original object.\n",
      "\n",
      "\n",
      "  df[column].fillna(df[column].median(), inplace=True)  # Impute median for numerical\n",
      "/home/rishupishu/Documents/HWUD/YEAR 4/SEM 1/F20DL/CW/Dubai_UG-6/scripts/preprocess_phishing_data.py:32: FutureWarning: A value is trying to be set on a copy of a DataFrame or Series through chained assignment using an inplace method.\n",
      "The behavior will change in pandas 3.0. This inplace method will never work because the intermediate object on which we are setting values always behaves as a copy.\n",
      "\n",
      "For example, when doing 'df[col].method(value, inplace=True)', try using 'df.method({col: value}, inplace=True)' or df[col] = df[col].method(value) instead, to perform the operation inplace on the original object.\n",
      "\n",
      "\n",
      "  df[column].fillna(df[column].median(), inplace=True)  # Impute median for numerical\n",
      "/home/rishupishu/Documents/HWUD/YEAR 4/SEM 1/F20DL/CW/Dubai_UG-6/scripts/preprocess_phishing_data.py:32: FutureWarning: A value is trying to be set on a copy of a DataFrame or Series through chained assignment using an inplace method.\n",
      "The behavior will change in pandas 3.0. This inplace method will never work because the intermediate object on which we are setting values always behaves as a copy.\n",
      "\n",
      "For example, when doing 'df[col].method(value, inplace=True)', try using 'df.method({col: value}, inplace=True)' or df[col] = df[col].method(value) instead, to perform the operation inplace on the original object.\n",
      "\n",
      "\n",
      "  df[column].fillna(df[column].median(), inplace=True)  # Impute median for numerical\n",
      "/home/rishupishu/Documents/HWUD/YEAR 4/SEM 1/F20DL/CW/Dubai_UG-6/scripts/preprocess_phishing_data.py:32: FutureWarning: A value is trying to be set on a copy of a DataFrame or Series through chained assignment using an inplace method.\n",
      "The behavior will change in pandas 3.0. This inplace method will never work because the intermediate object on which we are setting values always behaves as a copy.\n",
      "\n",
      "For example, when doing 'df[col].method(value, inplace=True)', try using 'df.method({col: value}, inplace=True)' or df[col] = df[col].method(value) instead, to perform the operation inplace on the original object.\n",
      "\n",
      "\n",
      "  df[column].fillna(df[column].median(), inplace=True)  # Impute median for numerical\n",
      "/home/rishupishu/Documents/HWUD/YEAR 4/SEM 1/F20DL/CW/Dubai_UG-6/scripts/preprocess_phishing_data.py:32: FutureWarning: A value is trying to be set on a copy of a DataFrame or Series through chained assignment using an inplace method.\n",
      "The behavior will change in pandas 3.0. This inplace method will never work because the intermediate object on which we are setting values always behaves as a copy.\n",
      "\n",
      "For example, when doing 'df[col].method(value, inplace=True)', try using 'df.method({col: value}, inplace=True)' or df[col] = df[col].method(value) instead, to perform the operation inplace on the original object.\n",
      "\n",
      "\n",
      "  df[column].fillna(df[column].median(), inplace=True)  # Impute median for numerical\n",
      "/home/rishupishu/Documents/HWUD/YEAR 4/SEM 1/F20DL/CW/Dubai_UG-6/scripts/preprocess_phishing_data.py:32: FutureWarning: A value is trying to be set on a copy of a DataFrame or Series through chained assignment using an inplace method.\n",
      "The behavior will change in pandas 3.0. This inplace method will never work because the intermediate object on which we are setting values always behaves as a copy.\n",
      "\n",
      "For example, when doing 'df[col].method(value, inplace=True)', try using 'df.method({col: value}, inplace=True)' or df[col] = df[col].method(value) instead, to perform the operation inplace on the original object.\n",
      "\n",
      "\n",
      "  df[column].fillna(df[column].median(), inplace=True)  # Impute median for numerical\n",
      "/home/rishupishu/Documents/HWUD/YEAR 4/SEM 1/F20DL/CW/Dubai_UG-6/scripts/preprocess_phishing_data.py:32: FutureWarning: A value is trying to be set on a copy of a DataFrame or Series through chained assignment using an inplace method.\n",
      "The behavior will change in pandas 3.0. This inplace method will never work because the intermediate object on which we are setting values always behaves as a copy.\n",
      "\n",
      "For example, when doing 'df[col].method(value, inplace=True)', try using 'df.method({col: value}, inplace=True)' or df[col] = df[col].method(value) instead, to perform the operation inplace on the original object.\n",
      "\n",
      "\n",
      "  df[column].fillna(df[column].median(), inplace=True)  # Impute median for numerical\n",
      "/home/rishupishu/Documents/HWUD/YEAR 4/SEM 1/F20DL/CW/Dubai_UG-6/scripts/preprocess_phishing_data.py:32: FutureWarning: A value is trying to be set on a copy of a DataFrame or Series through chained assignment using an inplace method.\n",
      "The behavior will change in pandas 3.0. This inplace method will never work because the intermediate object on which we are setting values always behaves as a copy.\n",
      "\n",
      "For example, when doing 'df[col].method(value, inplace=True)', try using 'df.method({col: value}, inplace=True)' or df[col] = df[col].method(value) instead, to perform the operation inplace on the original object.\n",
      "\n",
      "\n",
      "  df[column].fillna(df[column].median(), inplace=True)  # Impute median for numerical\n",
      "/home/rishupishu/Documents/HWUD/YEAR 4/SEM 1/F20DL/CW/Dubai_UG-6/scripts/preprocess_phishing_data.py:30: FutureWarning: A value is trying to be set on a copy of a DataFrame or Series through chained assignment using an inplace method.\n",
      "The behavior will change in pandas 3.0. This inplace method will never work because the intermediate object on which we are setting values always behaves as a copy.\n",
      "\n",
      "For example, when doing 'df[col].method(value, inplace=True)', try using 'df.method({col: value}, inplace=True)' or df[col] = df[col].method(value) instead, to perform the operation inplace on the original object.\n",
      "\n",
      "\n",
      "  df[column].fillna(df[column].mode()[0], inplace=True)  # Impute mode for categorical\n",
      "/home/rishupishu/Documents/HWUD/YEAR 4/SEM 1/F20DL/CW/Dubai_UG-6/scripts/preprocess_phishing_data.py:32: FutureWarning: A value is trying to be set on a copy of a DataFrame or Series through chained assignment using an inplace method.\n",
      "The behavior will change in pandas 3.0. This inplace method will never work because the intermediate object on which we are setting values always behaves as a copy.\n",
      "\n",
      "For example, when doing 'df[col].method(value, inplace=True)', try using 'df.method({col: value}, inplace=True)' or df[col] = df[col].method(value) instead, to perform the operation inplace on the original object.\n",
      "\n",
      "\n",
      "  df[column].fillna(df[column].median(), inplace=True)  # Impute median for numerical\n"
     ]
    },
    {
     "name": "stdout",
     "output_type": "stream",
     "text": [
      "Missing data handled!\n",
      "Step 3: Encoding categorical features...\n",
      "Categorical features encoded!\n",
      "Step 4: Removing outliers...\n",
      "Outliers removed!\n",
      "Step 5: Scaling features...\n",
      "Features scaled!\n",
      "Step 6: Splitting data into training and testing sets...\n",
      "Data split into training and testing sets!\n",
      "Step 7: Applying PCA with 50 components...\n",
      "PCA applied!\n",
      "Step 8: Saving processed data...\n",
      "Data preprocessing complete! Data saved as flattened.\n"
     ]
    }
   ],
   "source": [
    "import sys\n",
    "import os\n",
    "\n",
    "BASE_DIR = os.path.abspath('..')\n",
    "\n",
    "RAW_DATA_PATH = os.path.join(BASE_DIR, 'data/raw_data/phishing/out.csv')\n",
    "PROCESSED_TRAIN_DIR = os.path.join(BASE_DIR, 'data/processed_data/phishing/train')\n",
    "PROCESSED_TEST_DIR = os.path.join(BASE_DIR, 'data/processed_data/phishing/test')\n",
    "\n",
    "from preprocess_phishing_data import preprocessing_pipeline\n",
    "preprocessing_pipeline(RAW_DATA_PATH, use_pca=True, n_components=50)\n"
   ]
  },
  {
   "cell_type": "code",
   "execution_count": null,
   "id": "03670432-cc4a-4611-97bf-a8137a566e04",
   "metadata": {},
   "outputs": [],
   "source": []
  }
 ],
 "metadata": {
  "kernelspec": {
   "display_name": "Python 3 (ipykernel)",
   "language": "python",
   "name": "python3"
  },
  "language_info": {
   "codemirror_mode": {
    "name": "ipython",
    "version": 3
   },
   "file_extension": ".py",
   "mimetype": "text/x-python",
   "name": "python",
   "nbconvert_exporter": "python",
   "pygments_lexer": "ipython3",
   "version": "3.10.12"
  }
 },
 "nbformat": 4,
 "nbformat_minor": 5
}
